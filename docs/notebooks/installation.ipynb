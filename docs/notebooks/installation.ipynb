{
 "cells": [
  {
   "cell_type": "markdown",
   "id": "d6cce81d-7f27-4db7-b5ab-7925b786c599",
   "metadata": {},
   "source": [
    "# Installation"
   ]
  },
  {
   "cell_type": "markdown",
   "id": "7ce55334-b161-4677-9943-110f3fe1a473",
   "metadata": {},
   "source": [
    "cellDancer requires Python version >= 3.7.6 to run."
   ]
  },
  {
   "attachments": {},
   "cell_type": "markdown",
   "id": "4bcd9ae1-a096-4ecf-9479-8dc6941481c3",
   "metadata": {},
   "source": [
    "To run the notebook locally, create an [conda](https://docs.conda.io/en/latest/) or [Anaconda](https://www.anaconda.com/) environment as ```conda create -n cellDancer python==3.7.6```, and activate the new environment with ```conda activate cellDancer```. cellDancer could be installed with ```pip install celldancer```.\n"
   ]
  },
  {
   "attachments": {},
   "cell_type": "markdown",
   "id": "9ef0f0db-19df-46c2-8ca2-6ee4aa14726b",
   "metadata": {},
   "source": [
    "To install cellDancer from source code, run ```'pip install your_path/cellDancer'```."
   ]
  },
  {
   "attachments": {},
   "cell_type": "markdown",
   "id": "619a4af5",
   "metadata": {},
   "source": [
    "The dependencies could also be installed by ``pip install -r requirements.txt``."
   ]
  }
 ],
 "metadata": {
  "kernelspec": {
   "display_name": "Python 3 (ipykernel)",
   "language": "python",
   "name": "python3"
  },
  "language_info": {
   "codemirror_mode": {
    "name": "ipython",
    "version": 3
   },
   "file_extension": ".py",
   "mimetype": "text/x-python",
   "name": "python",
   "nbconvert_exporter": "python",
   "pygments_lexer": "ipython3",
   "version": "3.7.6"
  }
 },
 "nbformat": 4,
 "nbformat_minor": 5
}
