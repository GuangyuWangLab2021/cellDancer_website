{
 "cells": [
  {
   "cell_type": "markdown",
   "id": "d6cce81d-7f27-4db7-b5ab-7925b786c599",
   "metadata": {},
   "source": [
    "# Data Preparation"
   ]
  },
  {
   "cell_type": "markdown",
   "id": "8d4c88d1",
   "metadata": {},
   "source": [
    "In our tutorials of [Resolve the transcriptional boost in gastrulation erythroid maturation data](case_study_gastrulation.html), [Analyze RNA velocity for mouse hippocampal dentate gyrus neurogenesis data](case_study_neuro.html), and [Decode cell sub-population based on kinetic parameters of pancreatic endocrinogenesis data](case_study_pancreas.html), the data has already been prepared. To load your own data, the data fromat and the method to prepare the data will be introduced.\n",
    "\n",
    "The input data for the prediction of velocity is in ```csv``` format. And could be loaded using ```pandas.read_csv()```. Taking the [cell_type_u_s_sample_df.csv](https://drive.google.com/file/d/1XYWaJ3AyMspW7Wfy43LAcgsYm9GGDDh1/view?usp=sharing) below as an example of 5 cells corresponding to 2 genes, the gene information is represented by columns of ```gene_name```, ```unsplice```, and ```splice```. The cell information is represented by columns ```cellID```, ```clusters```, ```embedding1```, and ```embedding2```. ```unsplice``` and ```splice``` columns represent the spliced and unspliced counts, seperately. ```cellID``` is the unique id of each cell. ```clusters``` represents the cell type of each cell. ```embedding1``` and ```embedding2``` are the 2-dimensional representation of all cells such as UMAP, PCA, or t-SNE."
   ]
  },
  {
   "cell_type": "code",
   "execution_count": 1,
   "id": "0c1b7bab",
   "metadata": {},
   "outputs": [
    {
     "data": {
      "text/html": [
       "<div>\n",
       "<style scoped>\n",
       "    .dataframe tbody tr th:only-of-type {\n",
       "        vertical-align: middle;\n",
       "    }\n",
       "\n",
       "    .dataframe tbody tr th {\n",
       "        vertical-align: top;\n",
       "    }\n",
       "\n",
       "    .dataframe thead th {\n",
       "        text-align: right;\n",
       "    }\n",
       "</style>\n",
       "<table border=\"1\" class=\"dataframe\">\n",
       "  <thead>\n",
       "    <tr style=\"text-align: right;\">\n",
       "      <th></th>\n",
       "      <th>gene_name</th>\n",
       "      <th>unsplice</th>\n",
       "      <th>splice</th>\n",
       "      <th>cellID</th>\n",
       "      <th>clusters</th>\n",
       "      <th>embedding1</th>\n",
       "      <th>embedding2</th>\n",
       "    </tr>\n",
       "  </thead>\n",
       "  <tbody>\n",
       "    <tr>\n",
       "      <th>0</th>\n",
       "      <td>Hba-x</td>\n",
       "      <td>0.000000</td>\n",
       "      <td>0.123217</td>\n",
       "      <td>cell_363</td>\n",
       "      <td>Blood progenitors 2</td>\n",
       "      <td>3.460521</td>\n",
       "      <td>15.574629</td>\n",
       "    </tr>\n",
       "    <tr>\n",
       "      <th>1</th>\n",
       "      <td>Hba-x</td>\n",
       "      <td>0.000000</td>\n",
       "      <td>0.008806</td>\n",
       "      <td>cell_385</td>\n",
       "      <td>Blood progenitors 2</td>\n",
       "      <td>2.351203</td>\n",
       "      <td>15.267069</td>\n",
       "    </tr>\n",
       "    <tr>\n",
       "      <th>2</th>\n",
       "      <td>Hba-x</td>\n",
       "      <td>0.023665</td>\n",
       "      <td>21.719713</td>\n",
       "      <td>cell_592</td>\n",
       "      <td>Erythroid1</td>\n",
       "      <td>6.170377</td>\n",
       "      <td>12.916482</td>\n",
       "    </tr>\n",
       "    <tr>\n",
       "      <th>3</th>\n",
       "      <td>Hba-x</td>\n",
       "      <td>0.447068</td>\n",
       "      <td>301.915400</td>\n",
       "      <td>cell_16475</td>\n",
       "      <td>Erythroid2</td>\n",
       "      <td>8.311832</td>\n",
       "      <td>9.724998</td>\n",
       "    </tr>\n",
       "    <tr>\n",
       "      <th>4</th>\n",
       "      <td>Hba-x</td>\n",
       "      <td>0.665660</td>\n",
       "      <td>637.665650</td>\n",
       "      <td>cell_139318</td>\n",
       "      <td>Erythroid3</td>\n",
       "      <td>8.032358</td>\n",
       "      <td>7.603037</td>\n",
       "    </tr>\n",
       "    <tr>\n",
       "      <th>5</th>\n",
       "      <td>Sulf2</td>\n",
       "      <td>0.000000</td>\n",
       "      <td>0.033960</td>\n",
       "      <td>cell_363</td>\n",
       "      <td>Blood progenitors 2</td>\n",
       "      <td>3.460521</td>\n",
       "      <td>15.574629</td>\n",
       "    </tr>\n",
       "    <tr>\n",
       "      <th>6</th>\n",
       "      <td>Sulf2</td>\n",
       "      <td>0.000000</td>\n",
       "      <td>0.050277</td>\n",
       "      <td>cell_385</td>\n",
       "      <td>Blood progenitors 2</td>\n",
       "      <td>2.351203</td>\n",
       "      <td>15.267069</td>\n",
       "    </tr>\n",
       "    <tr>\n",
       "      <th>7</th>\n",
       "      <td>Sulf2</td>\n",
       "      <td>0.000000</td>\n",
       "      <td>0.033758</td>\n",
       "      <td>cell_592</td>\n",
       "      <td>Erythroid1</td>\n",
       "      <td>6.170377</td>\n",
       "      <td>12.916482</td>\n",
       "    </tr>\n",
       "    <tr>\n",
       "      <th>8</th>\n",
       "      <td>Sulf2</td>\n",
       "      <td>0.000000</td>\n",
       "      <td>0.011413</td>\n",
       "      <td>cell_16475</td>\n",
       "      <td>Erythroid2</td>\n",
       "      <td>8.311832</td>\n",
       "      <td>9.724998</td>\n",
       "    </tr>\n",
       "    <tr>\n",
       "      <th>9</th>\n",
       "      <td>Sulf2</td>\n",
       "      <td>0.000000</td>\n",
       "      <td>0.007784</td>\n",
       "      <td>cell_139318</td>\n",
       "      <td>Erythroid3</td>\n",
       "      <td>8.032358</td>\n",
       "      <td>7.603037</td>\n",
       "    </tr>\n",
       "  </tbody>\n",
       "</table>\n",
       "</div>"
      ],
      "text/plain": [
       "  gene_name  unsplice      splice       cellID             clusters  \\\n",
       "0     Hba-x  0.000000    0.123217     cell_363  Blood progenitors 2   \n",
       "1     Hba-x  0.000000    0.008806     cell_385  Blood progenitors 2   \n",
       "2     Hba-x  0.023665   21.719713     cell_592           Erythroid1   \n",
       "3     Hba-x  0.447068  301.915400   cell_16475           Erythroid2   \n",
       "4     Hba-x  0.665660  637.665650  cell_139318           Erythroid3   \n",
       "5     Sulf2  0.000000    0.033960     cell_363  Blood progenitors 2   \n",
       "6     Sulf2  0.000000    0.050277     cell_385  Blood progenitors 2   \n",
       "7     Sulf2  0.000000    0.033758     cell_592           Erythroid1   \n",
       "8     Sulf2  0.000000    0.011413   cell_16475           Erythroid2   \n",
       "9     Sulf2  0.000000    0.007784  cell_139318           Erythroid3   \n",
       "\n",
       "   embedding1  embedding2  \n",
       "0    3.460521   15.574629  \n",
       "1    2.351203   15.267069  \n",
       "2    6.170377   12.916482  \n",
       "3    8.311832    9.724998  \n",
       "4    8.032358    7.603037  \n",
       "5    3.460521   15.574629  \n",
       "6    2.351203   15.267069  \n",
       "7    6.170377   12.916482  \n",
       "8    8.311832    9.724998  \n",
       "9    8.032358    7.603037  "
      ]
     },
     "execution_count": 1,
     "metadata": {},
     "output_type": "execute_result"
    }
   ],
   "source": [
    "import pandas as pd\n",
    "cell_type_u_s=pd.read_csv('your_path/cell_type_u_s_sample_df.csv')\n",
    "cell_type_u_s"
   ]
  },
  {
   "cell_type": "markdown",
   "id": "1ffd63b3-7e95-44f9-b734-c5679aa08d04",
   "metadata": {},
   "source": [
    "## Format transfer"
   ]
  },
  {
   "cell_type": "markdown",
   "id": "7ce55334-b161-4677-9943-110f3fe1a473",
   "metadata": {},
   "source": [
    "The two count matrices of unspliced and spliced abundances could be obtained from standard sequencing protocols. They could be counted by [velocyto](http://velocyto.org/velocyto.py/tutorial/cli.html#running-velocyto) or [loompy/kallisto](https://linnarssonlab.org/loompy/kallisto/index.html) pipeline. \n",
    "\n",
    "We also provide a function (```celldancer.utilities.adata_to_csv()```) to transfer from [Anndata](https://anndata-tutorials.readthedocs.io/en/latest/getting-started.html) (a format of storing annotated data, usually are loom file) to ```csv``` format. For example, after the [preprocessing of data in Anndata format](https://scvelo.readthedocs.io/VelocityBasics/). To transfer to csv format, . ```celldancer.utilities.adata_to_raw_with_embed()``` could be used. For example, in the command of:"
   ]
  },
  {
   "cell_type": "markdown",
   "id": "395a8109",
   "metadata": {},
   "source": [
    "``celldancer.utilities.adata_to_raw_with_embed(adata,us_para=['Mu','Ms'], cell_type_para='celltype', embed_para='X_umap', save_path='cell_type_u_s.csv', gene_list=['Hba-x','Smim1'])``"
   ]
  },
  {
   "cell_type": "code",
   "execution_count": null,
   "id": "888d72b9",
   "metadata": {},
   "outputs": [],
   "source": []
  },
  {
   "cell_type": "markdown",
   "id": "03e62ae7",
   "metadata": {},
   "source": [
    "```splice``` and ```unsplice``` columns are obtained from the ```['Ms', 'Mu']``` attributes of ```adata.layers```. Also, ```cellID``` column is obtained from ```adata.obs.index```. ```clusters``` column is obtained from ```['celltype']``` of ```adata.obs```. The ```embedding1``` and ```embedding2``` columns are obtained from ['X_umap'] attribute of ```adata.obsm```."
   ]
  },
  {
   "cell_type": "markdown",
   "id": "aaf86d8e",
   "metadata": {},
   "source": []
  }
 ],
 "metadata": {
  "interpreter": {
   "hash": "a99a828e224165ef6ff74afd7967177ce2f279f30f5f9ef1db3758063b72efb9"
  },
  "kernelspec": {
   "display_name": "Python 3.7.6 ('celldancer_env')",
   "language": "python",
   "name": "python3"
  },
  "language_info": {
   "codemirror_mode": {
    "name": "ipython",
    "version": 3
   },
   "file_extension": ".py",
   "mimetype": "text/x-python",
   "name": "python",
   "nbconvert_exporter": "python",
   "pygments_lexer": "ipython3",
   "version": "3.7.6"
  }
 },
 "nbformat": 4,
 "nbformat_minor": 5
}
